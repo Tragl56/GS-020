{
  "cells": [
    {
      "cell_type": "code",
      "execution_count": 1,
      "metadata": {
        "id": "hF9UkeZu827X"
      },
      "outputs": [],
      "source": [
        "# Instalar bibliotecas necessárias\n",
        "!pip install tensorflow matplotlib kaggle"
      ]
    },
    {
      "cell_type": "code",
      "execution_count": null,
      "metadata": {
        "id": "KZZbLcrO8xh8"
      },
      "outputs": [],
      "source": [
        "# Importar bibliotecas\n",
        "import tensorflow as tf\n",
        "from tensorflow.keras.preprocessing.image import ImageDataGenerator\n",
        "from tensorflow.keras.models import Sequential\n",
        "from tensorflow.keras.layers import Conv2D, MaxPooling2D, Flatten, Dense\n",
        "from tensorflow.keras.models import load_model\n",
        "import numpy as np\n",
        "from tensorflow.keras.preprocessing import image\n",
        "import matplotlib.pyplot as plt\n",
        "import zipfile\n",
        "import os\n"
      ]
    },
    {
      "cell_type": "code",
      "execution_count": null,
      "metadata": {
        "colab": {
          "base_uri": "https://localhost:8080/"
        },
        "id": "mGZkNRSV9C2H",
        "outputId": "70d82cd2-01fd-4e75-fc68-84727ac036cf"
      },
      "outputs": [
        {
          "name": "stdout",
          "output_type": "stream",
          "text": [
            "cp: cannot stat 'kaggle.json': No such file or directory\n",
            "chmod: cannot access '/root/.kaggle/kaggle.json': No such file or directory\n",
            "Dataset URL: https://www.kaggle.com/datasets/vencerlanz09/sea-animals-image-dataste\n",
            "License(s): other\n",
            "sea-animals-image-dataste.zip: Skipping, found more recently modified local copy (use --force to force download)\n"
          ]
        }
      ],
      "source": [
        "# Carregar a chave da API do Kaggle\n",
        "!mkdir -p ~/.kaggle\n",
        "!cp kaggle.json ~/.kaggle/\n",
        "!chmod 600 ~/.kaggle/kaggle.json\n",
        "\n",
        "# Baixar o dataset do Kaggle\n",
        "!kaggle datasets download -d vencerlanz09/sea-animals-image-dataste\n",
        "\n",
        "# Descompactar o dataset\n",
        "with zipfile.ZipFile('sea-animals-image-dataste.zip', 'r') as zip_ref:\n",
        "    zip_ref.extractall('dataset')"
      ]
    },
    {
      "cell_type": "code",
      "execution_count": null,
      "metadata": {
        "colab": {
          "base_uri": "https://localhost:8080/"
        },
        "id": "uRgEt4w19Hx9",
        "outputId": "65adf4b6-06ef-487d-a1e9-159ae38e7de4"
      },
      "outputs": [
        {
          "name": "stdout",
          "output_type": "stream",
          "text": [
            "Found 13711 images belonging to 23 classes.\n",
            "Found 13711 images belonging to 23 classes.\n"
          ]
        }
      ],
      "source": [
        "# Configurar os geradores de dados\n",
        "\n",
        "INPUT_SHAPE = (224,224,3)\n",
        "BATCH_SIZE = 32\n",
        "EPOCHS = 5\n",
        "\n",
        "datagen = ImageDataGenerator(\n",
        "            rotation_range=20,\n",
        "            horizontal_flip=True,\n",
        "            vertical_flip=True,\n",
        "            rescale=1./255,\n",
        "            validation_split=0.2\n",
        "                )\n",
        "\n",
        "train_generator = train_datagen.flow_from_directory(\n",
        "    \"/content/dataset\",  # Caminho para o diretório de treino\n",
        "    target_size=(150, 150),\n",
        "    batch_size=20,\n",
        "    class_mode='binary'\n",
        ")\n",
        "\n",
        "validation_generator = validation_datagen.flow_from_directory(\n",
        "    \"/content/dataset\",  # Caminho para o diretório de validação\n",
        "    target_size=(150, 150),\n",
        "    batch_size=20,\n",
        "    class_mode='binary'\n",
        ")\n"
      ]
    },
    {
      "cell_type": "code",
      "execution_count": null,
      "metadata": {
        "colab": {
          "base_uri": "https://localhost:8080/"
        },
        "id": "sWNPa-H19Tgb",
        "outputId": "4728eaa8-8ffb-4cd0-96d1-276f942a5f90"
      },
      "outputs": [
        {
          "name": "stdout",
          "output_type": "stream",
          "text": [
            "Epoch 1/5\n",
            "100/100 [==============================] - 141s 1s/step - loss: -2809639936.0000 - accuracy: 0.0301 - val_loss: -21680320512.0000 - val_accuracy: 0.0350\n",
            "Epoch 2/5\n",
            "100/100 [==============================] - 142s 1s/step - loss: -552766865408.0000 - accuracy: 0.0310 - val_loss: -2144953958400.0000 - val_accuracy: 0.0380\n",
            "Epoch 3/5\n",
            "100/100 [==============================] - 142s 1s/step - loss: -10634758455296.0000 - accuracy: 0.0340 - val_loss: -25999739715584.0000 - val_accuracy: 0.0440\n",
            "Epoch 4/5\n",
            "100/100 [==============================] - 139s 1s/step - loss: -70431943950336.0000 - accuracy: 0.0360 - val_loss: -131905525645312.0000 - val_accuracy: 0.0350\n",
            "Epoch 5/5\n",
            "100/100 [==============================] - 134s 1s/step - loss: -286557265199104.0000 - accuracy: 0.0345 - val_loss: -494735470886912.0000 - val_accuracy: 0.0220\n"
          ]
        },
        {
          "name": "stderr",
          "output_type": "stream",
          "text": [
            "/usr/local/lib/python3.10/dist-packages/keras/src/engine/training.py:3103: UserWarning: You are saving your model as an HDF5 file via `model.save()`. This file format is considered legacy. We recommend using instead the native Keras format, e.g. `model.save('my_model.keras')`.\n",
            "  saving_api.save_model(\n"
          ]
        }
      ],
      "source": [
        "# Construir o modelo\n",
        "model = Sequential([\n",
        "    Conv2D(32, (3, 3), activation='relu', input_shape=(150, 150, 3)),\n",
        "    MaxPooling2D(2, 2),\n",
        "    Conv2D(64, (3, 3), activation='relu'),\n",
        "    MaxPooling2D(2, 2),\n",
        "    Conv2D(128, (3, 3), activation='relu'),\n",
        "    MaxPooling2D(2, 2),\n",
        "    Flatten(),\n",
        "    Dense(512, activation='relu'),\n",
        "    Dense(1, activation='sigmoid')\n",
        "])\n",
        "\n",
        "# Compilar o modelo\n",
        "model.compile(optimizer='adam', loss='binary_crossentropy', metrics=['accuracy'])\n",
        "\n",
        "# Treinar o modelo\n",
        "history = model.fit(\n",
        "    train_generator,\n",
        "    steps_per_epoch=100,  # Número de batches por epoch\n",
        "    epochs=5,\n",
        "    validation_data=validation_generator,\n",
        "    validation_steps=50  # Número de batches de validação por epoch\n",
        ")\n",
        "\n",
        "# Salvar o modelo treinado\n",
        "model.save('marine_life_model.h5')"
      ]
    },
    {
      "cell_type": "code",
      "execution_count": null,
      "metadata": {
        "id": "FS4amX8B9ZGK"
      },
      "outputs": [],
      "source": [
        "def predict_image(image_path):\n",
        "    # Carregar o modelo treinado\n",
        "    model = tf.keras.models.load_model('/content/marine_life_model.h5')\n",
        "\n",
        "    # Carregar e processar a imagem\n",
        "    img = load_img(image_path, target_size=(150, 150))\n",
        "    img_array = img_to_array(img)\n",
        "    img_array = np.expand_dims(img_array, axis=0)\n",
        "    img_array /= 255.0\n",
        "\n",
        "    # Fazer a previsão\n",
        "    prediction = model.predict(img_array)\n",
        "    if prediction[0] > 0.5:\n",
        "        print(\"A espécie está em extinção.\")\n",
        "    else:\n",
        "        print(\"A espécie não está em extinção.\")\n",
        "\n",
        "    # Mostrar a imagem\n",
        "    plt.imshow(img)\n",
        "    plt.axis('off')\n",
        "    plt.show()\n",
        "\n",
        "# Usar a função de previsão\n",
        "image_path = '/content/dataset/Fish/110666698_13f5024d23_o.jpg'  # Substituir pelo caminho da imagem a ser verificada\n",
        "predict_image(image_path)"
      ]
    },
    {
      "cell_type": "code",
      "execution_count": null,
      "metadata": {
        "id": "L1PSJnXpi99_"
      },
      "outputs": [],
      "source": [
        "# Visualizar a acurácia e a perda durante o treinamento\n",
        "plt.figure(figsize=(12, 4))\n",
        "\n",
        "\n",
        "#O objetivo é observar como a acurácia do modelol, isso ajuda a identificar se o modelo está aprendendo bem.\n",
        "plt.subplot(1, 2, 1)\n",
        "plt.plot(history.history['accuracy'], label='Acurácia de Treinamento')\n",
        "plt.plot(history.history['val_accuracy'], label='Acurácia de Validação')\n",
        "plt.legend()\n",
        "plt.title('Acurácia de Treinamento e Validação')\n",
        "\n",
        "plt.subplot(1, 2, 2)\n",
        "plt.plot(history.history['loss'], label='Perda de Treinamento')\n",
        "plt.plot(history.history['val_loss'], label='Perda de Validação')\n",
        "plt.legend()\n",
        "plt.title('Perda de Treinamento e Validação')\n",
        "\n",
        "plt.show()"
      ]
    }
  ],
  "metadata": {
    "colab": {
      "provenance": []
    },
    "kernelspec": {
      "display_name": "Python 3",
      "name": "python3"
    },
    "language_info": {
      "codemirror_mode": {
        "name": "ipython",
        "version": 3
      },
      "file_extension": ".py",
      "mimetype": "text/x-python",
      "name": "python",
      "nbconvert_exporter": "python",
      "pygments_lexer": "ipython3",
      "version": "3.12.3"
    }
  },
  "nbformat": 4,
  "nbformat_minor": 0
}
